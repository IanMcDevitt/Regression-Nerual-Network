{
  "nbformat": 4,
  "nbformat_minor": 0,
  "metadata": {
    "colab": {
      "provenance": [],
      "collapsed_sections": [],
      "authorship_tag": "ABX9TyPrwWSzfQr4FsOeBtnFIoFE",
      "include_colab_link": true
    },
    "kernelspec": {
      "name": "python3",
      "display_name": "Python 3"
    },
    "language_info": {
      "name": "python"
    },
    "widgets": {
      "application/vnd.jupyter.widget-state+json": {
        "58b8e8b4c87d4d5e86658f680e05c44c": {
          "model_module": "@jupyter-widgets/controls",
          "model_name": "HBoxModel",
          "model_module_version": "1.5.0",
          "state": {
            "_dom_classes": [],
            "_model_module": "@jupyter-widgets/controls",
            "_model_module_version": "1.5.0",
            "_model_name": "HBoxModel",
            "_view_count": null,
            "_view_module": "@jupyter-widgets/controls",
            "_view_module_version": "1.5.0",
            "_view_name": "HBoxView",
            "box_style": "",
            "children": [
              "IPY_MODEL_2e9f94274bf34a2c855b3c08ce341f41",
              "IPY_MODEL_64f50a552e034d35a7013d7b163bd4ae",
              "IPY_MODEL_070901a0dd0e4c44940ff1a207230dc1"
            ],
            "layout": "IPY_MODEL_5bd4c1f6d11b4364a8d9fd5983bfc26c"
          }
        },
        "2e9f94274bf34a2c855b3c08ce341f41": {
          "model_module": "@jupyter-widgets/controls",
          "model_name": "HTMLModel",
          "model_module_version": "1.5.0",
          "state": {
            "_dom_classes": [],
            "_model_module": "@jupyter-widgets/controls",
            "_model_module_version": "1.5.0",
            "_model_name": "HTMLModel",
            "_view_count": null,
            "_view_module": "@jupyter-widgets/controls",
            "_view_module_version": "1.5.0",
            "_view_name": "HTMLView",
            "description": "",
            "description_tooltip": null,
            "layout": "IPY_MODEL_1a1113f374e44191a3b9aea6ff2a1223",
            "placeholder": "​",
            "style": "IPY_MODEL_c159f3dd92b44622b9770551952f2a94",
            "value": "100%"
          }
        },
        "64f50a552e034d35a7013d7b163bd4ae": {
          "model_module": "@jupyter-widgets/controls",
          "model_name": "FloatProgressModel",
          "model_module_version": "1.5.0",
          "state": {
            "_dom_classes": [],
            "_model_module": "@jupyter-widgets/controls",
            "_model_module_version": "1.5.0",
            "_model_name": "FloatProgressModel",
            "_view_count": null,
            "_view_module": "@jupyter-widgets/controls",
            "_view_module_version": "1.5.0",
            "_view_name": "ProgressView",
            "bar_style": "success",
            "description": "",
            "description_tooltip": null,
            "layout": "IPY_MODEL_3d14adb4f929427b93d8641a58834b37",
            "max": 150,
            "min": 0,
            "orientation": "horizontal",
            "style": "IPY_MODEL_b2b2e7b8060141e6afd6f957664873e3",
            "value": 150
          }
        },
        "070901a0dd0e4c44940ff1a207230dc1": {
          "model_module": "@jupyter-widgets/controls",
          "model_name": "HTMLModel",
          "model_module_version": "1.5.0",
          "state": {
            "_dom_classes": [],
            "_model_module": "@jupyter-widgets/controls",
            "_model_module_version": "1.5.0",
            "_model_name": "HTMLModel",
            "_view_count": null,
            "_view_module": "@jupyter-widgets/controls",
            "_view_module_version": "1.5.0",
            "_view_name": "HTMLView",
            "description": "",
            "description_tooltip": null,
            "layout": "IPY_MODEL_7dba35b6b1224888928d5c3f7ade9dc3",
            "placeholder": "​",
            "style": "IPY_MODEL_7093e041a4fb4447bcf2ef64a6a710a4",
            "value": " 150/150 [00:12&lt;00:00, 12.40it/s]"
          }
        },
        "5bd4c1f6d11b4364a8d9fd5983bfc26c": {
          "model_module": "@jupyter-widgets/base",
          "model_name": "LayoutModel",
          "model_module_version": "1.2.0",
          "state": {
            "_model_module": "@jupyter-widgets/base",
            "_model_module_version": "1.2.0",
            "_model_name": "LayoutModel",
            "_view_count": null,
            "_view_module": "@jupyter-widgets/base",
            "_view_module_version": "1.2.0",
            "_view_name": "LayoutView",
            "align_content": null,
            "align_items": null,
            "align_self": null,
            "border": null,
            "bottom": null,
            "display": null,
            "flex": null,
            "flex_flow": null,
            "grid_area": null,
            "grid_auto_columns": null,
            "grid_auto_flow": null,
            "grid_auto_rows": null,
            "grid_column": null,
            "grid_gap": null,
            "grid_row": null,
            "grid_template_areas": null,
            "grid_template_columns": null,
            "grid_template_rows": null,
            "height": null,
            "justify_content": null,
            "justify_items": null,
            "left": null,
            "margin": null,
            "max_height": null,
            "max_width": null,
            "min_height": null,
            "min_width": null,
            "object_fit": null,
            "object_position": null,
            "order": null,
            "overflow": null,
            "overflow_x": null,
            "overflow_y": null,
            "padding": null,
            "right": null,
            "top": null,
            "visibility": null,
            "width": null
          }
        },
        "1a1113f374e44191a3b9aea6ff2a1223": {
          "model_module": "@jupyter-widgets/base",
          "model_name": "LayoutModel",
          "model_module_version": "1.2.0",
          "state": {
            "_model_module": "@jupyter-widgets/base",
            "_model_module_version": "1.2.0",
            "_model_name": "LayoutModel",
            "_view_count": null,
            "_view_module": "@jupyter-widgets/base",
            "_view_module_version": "1.2.0",
            "_view_name": "LayoutView",
            "align_content": null,
            "align_items": null,
            "align_self": null,
            "border": null,
            "bottom": null,
            "display": null,
            "flex": null,
            "flex_flow": null,
            "grid_area": null,
            "grid_auto_columns": null,
            "grid_auto_flow": null,
            "grid_auto_rows": null,
            "grid_column": null,
            "grid_gap": null,
            "grid_row": null,
            "grid_template_areas": null,
            "grid_template_columns": null,
            "grid_template_rows": null,
            "height": null,
            "justify_content": null,
            "justify_items": null,
            "left": null,
            "margin": null,
            "max_height": null,
            "max_width": null,
            "min_height": null,
            "min_width": null,
            "object_fit": null,
            "object_position": null,
            "order": null,
            "overflow": null,
            "overflow_x": null,
            "overflow_y": null,
            "padding": null,
            "right": null,
            "top": null,
            "visibility": null,
            "width": null
          }
        },
        "c159f3dd92b44622b9770551952f2a94": {
          "model_module": "@jupyter-widgets/controls",
          "model_name": "DescriptionStyleModel",
          "model_module_version": "1.5.0",
          "state": {
            "_model_module": "@jupyter-widgets/controls",
            "_model_module_version": "1.5.0",
            "_model_name": "DescriptionStyleModel",
            "_view_count": null,
            "_view_module": "@jupyter-widgets/base",
            "_view_module_version": "1.2.0",
            "_view_name": "StyleView",
            "description_width": ""
          }
        },
        "3d14adb4f929427b93d8641a58834b37": {
          "model_module": "@jupyter-widgets/base",
          "model_name": "LayoutModel",
          "model_module_version": "1.2.0",
          "state": {
            "_model_module": "@jupyter-widgets/base",
            "_model_module_version": "1.2.0",
            "_model_name": "LayoutModel",
            "_view_count": null,
            "_view_module": "@jupyter-widgets/base",
            "_view_module_version": "1.2.0",
            "_view_name": "LayoutView",
            "align_content": null,
            "align_items": null,
            "align_self": null,
            "border": null,
            "bottom": null,
            "display": null,
            "flex": null,
            "flex_flow": null,
            "grid_area": null,
            "grid_auto_columns": null,
            "grid_auto_flow": null,
            "grid_auto_rows": null,
            "grid_column": null,
            "grid_gap": null,
            "grid_row": null,
            "grid_template_areas": null,
            "grid_template_columns": null,
            "grid_template_rows": null,
            "height": null,
            "justify_content": null,
            "justify_items": null,
            "left": null,
            "margin": null,
            "max_height": null,
            "max_width": null,
            "min_height": null,
            "min_width": null,
            "object_fit": null,
            "object_position": null,
            "order": null,
            "overflow": null,
            "overflow_x": null,
            "overflow_y": null,
            "padding": null,
            "right": null,
            "top": null,
            "visibility": null,
            "width": null
          }
        },
        "b2b2e7b8060141e6afd6f957664873e3": {
          "model_module": "@jupyter-widgets/controls",
          "model_name": "ProgressStyleModel",
          "model_module_version": "1.5.0",
          "state": {
            "_model_module": "@jupyter-widgets/controls",
            "_model_module_version": "1.5.0",
            "_model_name": "ProgressStyleModel",
            "_view_count": null,
            "_view_module": "@jupyter-widgets/base",
            "_view_module_version": "1.2.0",
            "_view_name": "StyleView",
            "bar_color": null,
            "description_width": ""
          }
        },
        "7dba35b6b1224888928d5c3f7ade9dc3": {
          "model_module": "@jupyter-widgets/base",
          "model_name": "LayoutModel",
          "model_module_version": "1.2.0",
          "state": {
            "_model_module": "@jupyter-widgets/base",
            "_model_module_version": "1.2.0",
            "_model_name": "LayoutModel",
            "_view_count": null,
            "_view_module": "@jupyter-widgets/base",
            "_view_module_version": "1.2.0",
            "_view_name": "LayoutView",
            "align_content": null,
            "align_items": null,
            "align_self": null,
            "border": null,
            "bottom": null,
            "display": null,
            "flex": null,
            "flex_flow": null,
            "grid_area": null,
            "grid_auto_columns": null,
            "grid_auto_flow": null,
            "grid_auto_rows": null,
            "grid_column": null,
            "grid_gap": null,
            "grid_row": null,
            "grid_template_areas": null,
            "grid_template_columns": null,
            "grid_template_rows": null,
            "height": null,
            "justify_content": null,
            "justify_items": null,
            "left": null,
            "margin": null,
            "max_height": null,
            "max_width": null,
            "min_height": null,
            "min_width": null,
            "object_fit": null,
            "object_position": null,
            "order": null,
            "overflow": null,
            "overflow_x": null,
            "overflow_y": null,
            "padding": null,
            "right": null,
            "top": null,
            "visibility": null,
            "width": null
          }
        },
        "7093e041a4fb4447bcf2ef64a6a710a4": {
          "model_module": "@jupyter-widgets/controls",
          "model_name": "DescriptionStyleModel",
          "model_module_version": "1.5.0",
          "state": {
            "_model_module": "@jupyter-widgets/controls",
            "_model_module_version": "1.5.0",
            "_model_name": "DescriptionStyleModel",
            "_view_count": null,
            "_view_module": "@jupyter-widgets/base",
            "_view_module_version": "1.2.0",
            "_view_name": "StyleView",
            "description_width": ""
          }
        }
      }
    }
  },
  "cells": [
    {
      "cell_type": "markdown",
      "metadata": {
        "id": "view-in-github",
        "colab_type": "text"
      },
      "source": [
        "<a href=\"https://colab.research.google.com/github/IanMcDevitt/Regression-Nerual-Network/blob/main/Untitled8.ipynb\" target=\"_parent\"><img src=\"https://colab.research.google.com/assets/colab-badge.svg\" alt=\"Open In Colab\"/></a>"
      ]
    },
    {
      "cell_type": "markdown",
      "source": [
        "# Neural Regression(Wine Example)\n",
        "https://visualstudiomagazine.com/articles/2021/02/11/pytorch-define.aspx \n"
      ],
      "metadata": {
        "id": "eF0wQhIq6flj"
      }
    },
    {
      "cell_type": "markdown",
      "source": [
        "A **Regression Problem** is to calculate one number based on table of data with mutiple dimnesions "
      ],
      "metadata": {
        "id": "dH5MdOTm6xMS"
      }
    },
    {
      "cell_type": "markdown",
      "source": [
        "6 Steps to creating a Neural Regression Network\n",
        "\n",
        "\n",
        "1.   Pepare the training and test data\n",
        "2.   Implement Data Objectes to be able to serve up data in batches \n",
        "3.   Design and Implement a nueral network\n",
        "4.   Write code to train the network\n",
        "5.   Write code to evaluate the model\n",
        "6.   Write code to save model and use model to make predicitons for unseen data\n",
        "\n"
      ],
      "metadata": {
        "id": "2sDGtjRS7ADj"
      }
    },
    {
      "cell_type": "markdown",
      "source": [
        "# Create\n",
        " The demo prepares training by setting up a \n",
        "\n",
        "*   An 8-(10-10)-1 deep neural network\n",
        "*   Prepares training by setting up a loss function (squared error)\n",
        "*   Training optimizer function (Adam)\n",
        "*   Parameters for training learning rate and max epochs \n"
      ],
      "metadata": {
        "id": "AArXY2ig8NKr"
      }
    },
    {
      "cell_type": "code",
      "execution_count": 4,
      "metadata": {
        "id": "43ttNPzi6Xx9"
      },
      "outputs": [],
      "source": [
        "import numpy as np\n",
        "import pandas as pd\n",
        "import seaborn as sns\n",
        "from tqdm.notebook import tqdm\n",
        "import matplotlib.pyplot as plt\n",
        "import torch\n",
        "import torch.nn as nn\n",
        "import torch.optim as optim\n",
        "from torch.utils.data import Dataset, DataLoader\n",
        "from sklearn.preprocessing import MinMaxScaler    \n",
        "from sklearn.model_selection import train_test_split\n",
        "from sklearn.metrics import mean_squared_error, r2_score\n",
        "from google.colab import files"
      ]
    },
    {
      "cell_type": "code",
      "source": [
        "# uploading file to coloab\n",
        "uploaded = files.upload()\n"
      ],
      "metadata": {
        "colab": {
          "base_uri": "https://localhost:8080/",
          "height": 74
        },
        "id": "RL8yIXjvbwwW",
        "outputId": "684dd879-bbff-46bc-c3b8-43485711bf9d"
      },
      "execution_count": 18,
      "outputs": [
        {
          "output_type": "display_data",
          "data": {
            "text/plain": [
              "<IPython.core.display.HTML object>"
            ],
            "text/html": [
              "\n",
              "     <input type=\"file\" id=\"files-78ced1e2-b7da-4202-9ec6-766e8cebbb31\" name=\"files[]\" multiple disabled\n",
              "        style=\"border:none\" />\n",
              "     <output id=\"result-78ced1e2-b7da-4202-9ec6-766e8cebbb31\">\n",
              "      Upload widget is only available when the cell has been executed in the\n",
              "      current browser session. Please rerun this cell to enable.\n",
              "      </output>\n",
              "      <script>// Copyright 2017 Google LLC\n",
              "//\n",
              "// Licensed under the Apache License, Version 2.0 (the \"License\");\n",
              "// you may not use this file except in compliance with the License.\n",
              "// You may obtain a copy of the License at\n",
              "//\n",
              "//      http://www.apache.org/licenses/LICENSE-2.0\n",
              "//\n",
              "// Unless required by applicable law or agreed to in writing, software\n",
              "// distributed under the License is distributed on an \"AS IS\" BASIS,\n",
              "// WITHOUT WARRANTIES OR CONDITIONS OF ANY KIND, either express or implied.\n",
              "// See the License for the specific language governing permissions and\n",
              "// limitations under the License.\n",
              "\n",
              "/**\n",
              " * @fileoverview Helpers for google.colab Python module.\n",
              " */\n",
              "(function(scope) {\n",
              "function span(text, styleAttributes = {}) {\n",
              "  const element = document.createElement('span');\n",
              "  element.textContent = text;\n",
              "  for (const key of Object.keys(styleAttributes)) {\n",
              "    element.style[key] = styleAttributes[key];\n",
              "  }\n",
              "  return element;\n",
              "}\n",
              "\n",
              "// Max number of bytes which will be uploaded at a time.\n",
              "const MAX_PAYLOAD_SIZE = 100 * 1024;\n",
              "\n",
              "function _uploadFiles(inputId, outputId) {\n",
              "  const steps = uploadFilesStep(inputId, outputId);\n",
              "  const outputElement = document.getElementById(outputId);\n",
              "  // Cache steps on the outputElement to make it available for the next call\n",
              "  // to uploadFilesContinue from Python.\n",
              "  outputElement.steps = steps;\n",
              "\n",
              "  return _uploadFilesContinue(outputId);\n",
              "}\n",
              "\n",
              "// This is roughly an async generator (not supported in the browser yet),\n",
              "// where there are multiple asynchronous steps and the Python side is going\n",
              "// to poll for completion of each step.\n",
              "// This uses a Promise to block the python side on completion of each step,\n",
              "// then passes the result of the previous step as the input to the next step.\n",
              "function _uploadFilesContinue(outputId) {\n",
              "  const outputElement = document.getElementById(outputId);\n",
              "  const steps = outputElement.steps;\n",
              "\n",
              "  const next = steps.next(outputElement.lastPromiseValue);\n",
              "  return Promise.resolve(next.value.promise).then((value) => {\n",
              "    // Cache the last promise value to make it available to the next\n",
              "    // step of the generator.\n",
              "    outputElement.lastPromiseValue = value;\n",
              "    return next.value.response;\n",
              "  });\n",
              "}\n",
              "\n",
              "/**\n",
              " * Generator function which is called between each async step of the upload\n",
              " * process.\n",
              " * @param {string} inputId Element ID of the input file picker element.\n",
              " * @param {string} outputId Element ID of the output display.\n",
              " * @return {!Iterable<!Object>} Iterable of next steps.\n",
              " */\n",
              "function* uploadFilesStep(inputId, outputId) {\n",
              "  const inputElement = document.getElementById(inputId);\n",
              "  inputElement.disabled = false;\n",
              "\n",
              "  const outputElement = document.getElementById(outputId);\n",
              "  outputElement.innerHTML = '';\n",
              "\n",
              "  const pickedPromise = new Promise((resolve) => {\n",
              "    inputElement.addEventListener('change', (e) => {\n",
              "      resolve(e.target.files);\n",
              "    });\n",
              "  });\n",
              "\n",
              "  const cancel = document.createElement('button');\n",
              "  inputElement.parentElement.appendChild(cancel);\n",
              "  cancel.textContent = 'Cancel upload';\n",
              "  const cancelPromise = new Promise((resolve) => {\n",
              "    cancel.onclick = () => {\n",
              "      resolve(null);\n",
              "    };\n",
              "  });\n",
              "\n",
              "  // Wait for the user to pick the files.\n",
              "  const files = yield {\n",
              "    promise: Promise.race([pickedPromise, cancelPromise]),\n",
              "    response: {\n",
              "      action: 'starting',\n",
              "    }\n",
              "  };\n",
              "\n",
              "  cancel.remove();\n",
              "\n",
              "  // Disable the input element since further picks are not allowed.\n",
              "  inputElement.disabled = true;\n",
              "\n",
              "  if (!files) {\n",
              "    return {\n",
              "      response: {\n",
              "        action: 'complete',\n",
              "      }\n",
              "    };\n",
              "  }\n",
              "\n",
              "  for (const file of files) {\n",
              "    const li = document.createElement('li');\n",
              "    li.append(span(file.name, {fontWeight: 'bold'}));\n",
              "    li.append(span(\n",
              "        `(${file.type || 'n/a'}) - ${file.size} bytes, ` +\n",
              "        `last modified: ${\n",
              "            file.lastModifiedDate ? file.lastModifiedDate.toLocaleDateString() :\n",
              "                                    'n/a'} - `));\n",
              "    const percent = span('0% done');\n",
              "    li.appendChild(percent);\n",
              "\n",
              "    outputElement.appendChild(li);\n",
              "\n",
              "    const fileDataPromise = new Promise((resolve) => {\n",
              "      const reader = new FileReader();\n",
              "      reader.onload = (e) => {\n",
              "        resolve(e.target.result);\n",
              "      };\n",
              "      reader.readAsArrayBuffer(file);\n",
              "    });\n",
              "    // Wait for the data to be ready.\n",
              "    let fileData = yield {\n",
              "      promise: fileDataPromise,\n",
              "      response: {\n",
              "        action: 'continue',\n",
              "      }\n",
              "    };\n",
              "\n",
              "    // Use a chunked sending to avoid message size limits. See b/62115660.\n",
              "    let position = 0;\n",
              "    do {\n",
              "      const length = Math.min(fileData.byteLength - position, MAX_PAYLOAD_SIZE);\n",
              "      const chunk = new Uint8Array(fileData, position, length);\n",
              "      position += length;\n",
              "\n",
              "      const base64 = btoa(String.fromCharCode.apply(null, chunk));\n",
              "      yield {\n",
              "        response: {\n",
              "          action: 'append',\n",
              "          file: file.name,\n",
              "          data: base64,\n",
              "        },\n",
              "      };\n",
              "\n",
              "      let percentDone = fileData.byteLength === 0 ?\n",
              "          100 :\n",
              "          Math.round((position / fileData.byteLength) * 100);\n",
              "      percent.textContent = `${percentDone}% done`;\n",
              "\n",
              "    } while (position < fileData.byteLength);\n",
              "  }\n",
              "\n",
              "  // All done.\n",
              "  yield {\n",
              "    response: {\n",
              "      action: 'complete',\n",
              "    }\n",
              "  };\n",
              "}\n",
              "\n",
              "scope.google = scope.google || {};\n",
              "scope.google.colab = scope.google.colab || {};\n",
              "scope.google.colab._files = {\n",
              "  _uploadFiles,\n",
              "  _uploadFilesContinue,\n",
              "};\n",
              "})(self);\n",
              "</script> "
            ]
          },
          "metadata": {}
        },
        {
          "output_type": "stream",
          "name": "stdout",
          "text": [
            "Saving winequality-red.csv to winequality-red (4).csv\n"
          ]
        }
      ]
    },
    {
      "cell_type": "code",
      "source": [
        "import io\n",
        "df2 = pd.read_csv(io.BytesIO(uploaded['winequality-red.csv']))\n",
        "# Dataset is now stored in a Pandas Dataframe"
      ],
      "metadata": {
        "id": "S5foULnwcxcf"
      },
      "execution_count": 19,
      "outputs": []
    },
    {
      "cell_type": "code",
      "source": [
        "# Data being graphed to bar graph based the count of quality \n",
        "sns.countplot(x = 'quality', data=df2)\n"
      ],
      "metadata": {
        "colab": {
          "base_uri": "https://localhost:8080/",
          "height": 297
        },
        "id": "O70YQwbieV85",
        "outputId": "29798751-fcf7-43d1-8aa1-4c8bfd362179"
      },
      "execution_count": 63,
      "outputs": [
        {
          "output_type": "execute_result",
          "data": {
            "text/plain": [
              "<matplotlib.axes._subplots.AxesSubplot at 0x7fdc5d924450>"
            ]
          },
          "metadata": {},
          "execution_count": 63
        },
        {
          "output_type": "display_data",
          "data": {
            "text/plain": [
              "<Figure size 432x288 with 1 Axes>"
            ],
            "image/png": "[encoded data removed]"
          },
          "metadata": {
            "needs_background": "light"
          }
        }
      ]
    },
    {
      "cell_type": "code",
      "source": [
        "# Seperatiing the columns of data set X: all columns but the last one Y: last column , of the data set\n",
        "X = df2.iloc[:, 0:-1]\n",
        "y = df2.iloc[:, -1]"
      ],
      "metadata": {
        "id": "KFruF4isfSZm"
      },
      "execution_count": 23,
      "outputs": []
    },
    {
      "cell_type": "code",
      "source": [
        "# Train - Test\n",
        "# using the the train_test_split() to split into train and test\n",
        "X_trainval, X_test, y_trainval, y_test = train_test_split(X, y, test_size=0.2, stratify=y, random_state=69)\n",
        "# Split train into train-val\n",
        "X_train, X_val, y_train, y_val = train_test_split(X_trainval, y_trainval, test_size=0.1, stratify=y_trainval, random_state=21)"
      ],
      "metadata": {
        "id": "IOCC9s-_hNKH"
      },
      "execution_count": 24,
      "outputs": []
    },
    {
      "cell_type": "code",
      "source": [
        "#fitting and normalizing data and tranforming to be used to be turned into numpy array\n",
        "\n",
        "scaler = MinMaxScaler()\n",
        "X_train = scaler.fit_transform(X_train)\n",
        "X_val = scaler.transform(X_val)\n",
        "X_test = scaler.transform(X_test)\n",
        "X_train, y_train = np.array(X_train), np.array(y_train)\n",
        "X_val, y_val = np.array(X_val), np.array(y_val)\n",
        "X_test, y_test = np.array(X_test), np.array(y_test)"
      ],
      "metadata": {
        "id": "arL24Y32hm5_"
      },
      "execution_count": 25,
      "outputs": []
    },
    {
      "cell_type": "code",
      "source": [
        "# creating class to count the number of different ratings from 3-8\n",
        "def get_class_distribution(obj):\n",
        "    count_dict = {\n",
        "        \"rating_3\": 0,\n",
        "        \"rating_4\": 0,\n",
        "        \"rating_5\": 0,\n",
        "        \"rating_6\": 0,\n",
        "        \"rating_7\": 0,\n",
        "        \"rating_8\": 0,\n",
        "    }\n",
        "    \n",
        "    for i in obj:\n",
        "        if i == 3: \n",
        "            count_dict['rating_3'] += 1\n",
        "        elif i == 4: \n",
        "            count_dict['rating_4'] += 1\n",
        "        elif i == 5: \n",
        "            count_dict['rating_5'] += 1\n",
        "        elif i == 6: \n",
        "            count_dict['rating_6'] += 1\n",
        "        elif i == 7: \n",
        "            count_dict['rating_7'] += 1  \n",
        "        elif i == 8: \n",
        "            count_dict['rating_8'] += 1              \n",
        "        else:\n",
        "            print(\"Check classes.\")\n",
        "            \n",
        "    return count_dict"
      ],
      "metadata": {
        "id": "ktRTLpz1h-3N"
      },
      "execution_count": 64,
      "outputs": []
    },
    {
      "cell_type": "code",
      "source": [
        "# Using Pandas to print get the counts of each rating \n",
        "pd.DataFrame.from_dict([get_class_distribution(y_train)])"
      ],
      "metadata": {
        "colab": {
          "base_uri": "https://localhost:8080/",
          "height": 81
        },
        "id": "y47viQZoidaK",
        "outputId": "2341e8b4-41d9-44ac-a4be-5f2804ca3270"
      },
      "execution_count": 28,
      "outputs": [
        {
          "output_type": "execute_result",
          "data": {
            "text/plain": [
              "   rating_3  rating_4  rating_5  rating_6  rating_7  rating_8\n",
              "0         7        38       490       459       143        14"
            ],
            "text/html": [
              "\n",
              "  <div id=\"df-5e803de8-cc7f-4123-b8c8-c976e0ad3a8b\">\n",
              "    <div class=\"colab-df-container\">\n",
              "      <div>\n",
              "<style scoped>\n",
              "    .dataframe tbody tr th:only-of-type {\n",
              "        vertical-align: middle;\n",
              "    }\n",
              "\n",
              "    .dataframe tbody tr th {\n",
              "        vertical-align: top;\n",
              "    }\n",
              "\n",
              "    .dataframe thead th {\n",
              "        text-align: right;\n",
              "    }\n",
              "</style>\n",
              "<table border=\"1\" class=\"dataframe\">\n",
              "  <thead>\n",
              "    <tr style=\"text-align: right;\">\n",
              "      <th></th>\n",
              "      <th>rating_3</th>\n",
              "      <th>rating_4</th>\n",
              "      <th>rating_5</th>\n",
              "      <th>rating_6</th>\n",
              "      <th>rating_7</th>\n",
              "      <th>rating_8</th>\n",
              "    </tr>\n",
              "  </thead>\n",
              "  <tbody>\n",
              "    <tr>\n",
              "      <th>0</th>\n",
              "      <td>7</td>\n",
              "      <td>38</td>\n",
              "      <td>490</td>\n",
              "      <td>459</td>\n",
              "      <td>143</td>\n",
              "      <td>14</td>\n",
              "    </tr>\n",
              "  </tbody>\n",
              "</table>\n",
              "</div>\n",
              "      <button class=\"colab-df-convert\" onclick=\"convertToInteractive('df-5e803de8-cc7f-4123-b8c8-c976e0ad3a8b')\"\n",
              "              title=\"Convert this dataframe to an interactive table.\"\n",
              "              style=\"display:none;\">\n",
              "        \n",
              "  <svg xmlns=\"http://www.w3.org/2000/svg\" height=\"24px\"viewBox=\"0 0 24 24\"\n",
              "       width=\"24px\">\n",
              "    <path d=\"M0 0h24v24H0V0z\" fill=\"none\"/>\n",
              "    <path d=\"M18.56 5.44l.94 2.06.94-2.06 2.06-.94-2.06-.94-.94-2.06-.94 2.06-2.06.94zm-11 1L8.5 8.5l.94-2.06 2.06-.94-2.06-.94L8.5 2.5l-.94 2.06-2.06.94zm10 10l.94 2.06.94-2.06 2.06-.94-2.06-.94-.94-2.06-.94 2.06-2.06.94z\"/><path d=\"M17.41 7.96l-1.37-1.37c-.4-.4-.92-.59-1.43-.59-.52 0-1.04.2-1.43.59L10.3 9.45l-7.72 7.72c-.78.78-.78 2.05 0 2.83L4 21.41c.39.39.9.59 1.41.59.51 0 1.02-.2 1.41-.59l7.78-7.78 2.81-2.81c.8-.78.8-2.07 0-2.86zM5.41 20L4 18.59l7.72-7.72 1.47 1.35L5.41 20z\"/>\n",
              "  </svg>\n",
              "      </button>\n",
              "      \n",
              "  <style>\n",
              "    .colab-df-container {\n",
              "      display:flex;\n",
              "      flex-wrap:wrap;\n",
              "      gap: 12px;\n",
              "    }\n",
              "\n",
              "    .colab-df-convert {\n",
              "      background-color: #E8F0FE;\n",
              "      border: none;\n",
              "      border-radius: 50%;\n",
              "      cursor: pointer;\n",
              "      display: none;\n",
              "      fill: #1967D2;\n",
              "      height: 32px;\n",
              "      padding: 0 0 0 0;\n",
              "      width: 32px;\n",
              "    }\n",
              "\n",
              "    .colab-df-convert:hover {\n",
              "      background-color: #E2EBFA;\n",
              "      box-shadow: 0px 1px 2px rgba(60, 64, 67, 0.3), 0px 1px 3px 1px rgba(60, 64, 67, 0.15);\n",
              "      fill: #174EA6;\n",
              "    }\n",
              "\n",
              "    [theme=dark] .colab-df-convert {\n",
              "      background-color: #3B4455;\n",
              "      fill: #D2E3FC;\n",
              "    }\n",
              "\n",
              "    [theme=dark] .colab-df-convert:hover {\n",
              "      background-color: #434B5C;\n",
              "      box-shadow: 0px 1px 3px 1px rgba(0, 0, 0, 0.15);\n",
              "      filter: drop-shadow(0px 1px 2px rgba(0, 0, 0, 0.3));\n",
              "      fill: #FFFFFF;\n",
              "    }\n",
              "  </style>\n",
              "\n",
              "      <script>\n",
              "        const buttonEl =\n",
              "          document.querySelector('#df-5e803de8-cc7f-4123-b8c8-c976e0ad3a8b button.colab-df-convert');\n",
              "        buttonEl.style.display =\n",
              "          google.colab.kernel.accessAllowed ? 'block' : 'none';\n",
              "\n",
              "        async function convertToInteractive(key) {\n",
              "          const element = document.querySelector('#df-5e803de8-cc7f-4123-b8c8-c976e0ad3a8b');\n",
              "          const dataTable =\n",
              "            await google.colab.kernel.invokeFunction('convertToInteractive',\n",
              "                                                     [key], {});\n",
              "          if (!dataTable) return;\n",
              "\n",
              "          const docLinkHtml = 'Like what you see? Visit the ' +\n",
              "            '<a target=\"_blank\" href=https://colab.research.google.com/notebooks/data_table.ipynb>data table notebook</a>'\n",
              "            + ' to learn more about interactive tables.';\n",
              "          element.innerHTML = '';\n",
              "          dataTable['output_type'] = 'display_data';\n",
              "          await google.colab.output.renderOutput(dataTable, element);\n",
              "          const docLink = document.createElement('div');\n",
              "          docLink.innerHTML = docLinkHtml;\n",
              "          element.appendChild(docLink);\n",
              "        }\n",
              "      </script>\n",
              "    </div>\n",
              "  </div>\n",
              "  "
            ]
          },
          "metadata": {},
          "execution_count": 28
        }
      ]
    },
    {
      "cell_type": "code",
      "source": [
        "#Creating 3 graphs for Training, Val, Test \n",
        "\n",
        "fig, axes = plt.subplots(nrows=1, ncols=3, figsize=(25,7))\n",
        "# Train\n",
        "sns.barplot(data = pd.DataFrame.from_dict([get_class_distribution(y_train)]).melt(), x = \"variable\", y=\"value\", hue=\"variable\",  ax=axes[0]).set_title('Class Distribution in Train Set')\n",
        "# Val\n",
        "sns.barplot(data = pd.DataFrame.from_dict([get_class_distribution(y_val)]).melt(), x = \"variable\", y=\"value\", hue=\"variable\",  ax=axes[1]).set_title('Class Distribution in Val Set')\n",
        "# Test\n",
        "sns.barplot(data = pd.DataFrame.from_dict([get_class_distribution(y_test)]).melt(), x = \"variable\", y=\"value\", hue=\"variable\",  ax=axes[2]).set_title('Class Distribution in Test Set')\n"
      ],
      "metadata": {
        "colab": {
          "base_uri": "https://localhost:8080/",
          "height": 446
        },
        "id": "u-O1ra0dimBJ",
        "outputId": "afc1f62e-03cf-4e99-8633-04fd9a728d93"
      },
      "execution_count": 29,
      "outputs": [
        {
          "output_type": "execute_result",
          "data": {
            "text/plain": [
              "Text(0.5, 1.0, 'Class Distribution in Test Set')"
            ]
          },
          "metadata": {},
          "execution_count": 29
        },
        {
          "output_type": "display_data",
          "data": {
            "text/plain": [
              "<Figure size 1800x504 with 3 Axes>"
            ],
            "image/png": "[encoded data removed]"
          },
          "metadata": {
            "needs_background": "light"
          }
        }
      ]
    },
    {
      "cell_type": "code",
      "source": [
        "#transforming output varible to float \n",
        "y_train, y_test, y_val = y_train.astype(float), y_test.astype(float), y_val.astype(float)"
      ],
      "metadata": {
        "id": "uhwZ2djdiwBZ"
      },
      "execution_count": 65,
      "outputs": []
    },
    {
      "cell_type": "code",
      "source": [
        "# creating class for Regression Dataset\n",
        "#initializing dataset for training, validation, test_dataset\n",
        "\n",
        "class RegressionDataset(Dataset):\n",
        "    \n",
        "    def __init__(self, X_data, y_data):\n",
        "        self.X_data = X_data\n",
        "        self.y_data = y_data\n",
        "        \n",
        "    def __getitem__(self, index):\n",
        "        return self.X_data[index], self.y_data[index]\n",
        "        \n",
        "    def __len__ (self):\n",
        "        return len(self.X_data)\n",
        "train_dataset = RegressionDataset(torch.from_numpy(X_train).float(), torch.from_numpy(y_train).float())\n",
        "val_dataset = RegressionDataset(torch.from_numpy(X_val).float(), torch.from_numpy(y_val).float())\n",
        "test_dataset = RegressionDataset(torch.from_numpy(X_test).float(), torch.from_numpy(y_test).float())"
      ],
      "metadata": {
        "id": "XukHyqXbiymK"
      },
      "execution_count": 66,
      "outputs": []
    },
    {
      "cell_type": "code",
      "source": [
        "# setting the training Epochs: (data size / batch size ) * epochs =  total batches\n",
        "EPOCHS = 150\n",
        "BATCH_SIZE = 64\n",
        "LEARNING_RATE = 0.001\n",
        "NUM_FEATURES = len(X.columns)"
      ],
      "metadata": {
        "id": "EVAs_2Bwizuw"
      },
      "execution_count": 77,
      "outputs": []
    },
    {
      "cell_type": "code",
      "source": [
        "# prep dataloader \n",
        "train_loader = DataLoader(dataset=train_dataset, batch_size=BATCH_SIZE, shuffle=True)\n",
        "val_loader = DataLoader(dataset=val_dataset, batch_size=1)\n",
        "test_loader = DataLoader(dataset=test_dataset, batch_size=1)"
      ],
      "metadata": {
        "id": "3nEgoLTPi3SV"
      },
      "execution_count": 78,
      "outputs": []
    },
    {
      "cell_type": "code",
      "source": [
        "# Defining the neural network\n",
        "class MultipleRegression(nn.Module):\n",
        "    def __init__(self, num_features):\n",
        "        super(MultipleRegression, self).__init__()\n",
        "         # 3 layer neural network \n",
        "         # max width 32 layers\n",
        "        self.layer_1 = nn.Linear(num_features, 16)\n",
        "        self.layer_2 = nn.Linear(16, 32)\n",
        "        self.layer_3 = nn.Linear(32, 16)\n",
        "        self.layer_out = nn.Linear(16, 1)\n",
        "        # activation function reutrns all postive values \n",
        "        self.relu = nn.ReLU()\n",
        "    # propagates forward through the layers for training\n",
        "    def forward(self, inputs):\n",
        "        x = self.relu(self.layer_1(inputs))\n",
        "        x = self.relu(self.layer_2(x))\n",
        "        x = self.relu(self.layer_3(x))\n",
        "        x = self.layer_out(x)\n",
        "        return (x)\n",
        "    # using test data to make predictions \n",
        "    def predict(self, test_inputs):\n",
        "        x = self.relu(self.layer_1(test_inputs))\n",
        "        x = self.relu(self.layer_2(x))\n",
        "        x = self.relu(self.layer_3(x))\n",
        "        x = self.layer_out(x)\n",
        "        return (x)"
      ],
      "metadata": {
        "id": "f3n6Bkz2jCJY"
      },
      "execution_count": 79,
      "outputs": []
    },
    {
      "cell_type": "code",
      "source": [
        "device = torch.device(\"cuda:0\" if torch.cuda.is_available() else \"cpu\")\n",
        "print(device)\n",
        "###################### OUTPUT ######################\n",
        "cuda:0"
      ],
      "metadata": {
        "colab": {
          "base_uri": "https://localhost:8080/"
        },
        "id": "dUioSUQ3jVvS",
        "outputId": "0a3abaac-b96a-428b-fe30-fca9463c4f2f"
      },
      "execution_count": 80,
      "outputs": [
        {
          "output_type": "stream",
          "name": "stdout",
          "text": [
            "cpu\n"
          ]
        }
      ]
    },
    {
      "cell_type": "code",
      "source": [
        "# defining the neruak network to be trained \n",
        "model = MultipleRegression(NUM_FEATURES)\n",
        "model.to(device)\n",
        "print(model)\n",
        "# using Mean squared error loss\n",
        "criterion = nn.MSELoss()\n",
        "#optimizing algorithm  set to a flat learning rate\n",
        "optimizer = optim.Adam(model.parameters(), lr=LEARNING_RATE)\n",
        "\n",
        "\n"
      ],
      "metadata": {
        "colab": {
          "base_uri": "https://localhost:8080/"
        },
        "id": "eqiSsKwHjbKF",
        "outputId": "16f5aee5-a1c0-4df7-f875-93a7d9049f95"
      },
      "execution_count": 81,
      "outputs": [
        {
          "output_type": "stream",
          "name": "stdout",
          "text": [
            "MultipleRegression(\n",
            "  (layer_1): Linear(in_features=11, out_features=16, bias=True)\n",
            "  (layer_2): Linear(in_features=16, out_features=32, bias=True)\n",
            "  (layer_3): Linear(in_features=32, out_features=16, bias=True)\n",
            "  (layer_out): Linear(in_features=16, out_features=1, bias=True)\n",
            "  (relu): ReLU()\n",
            ")\n"
          ]
        }
      ]
    },
    {
      "cell_type": "code",
      "source": [
        "# defining a dicitonary of loss per epoch \n",
        "loss_stats = {\n",
        "    'train': [],\n",
        "    \"val\": []\n",
        "}"
      ],
      "metadata": {
        "id": "Wzvgq-f5jr0u"
      },
      "execution_count": 82,
      "outputs": []
    },
    {
      "cell_type": "code",
      "source": [
        "print(\"Begin training.\")\n",
        "for e in tqdm(range(1, EPOCHS+1)):\n",
        "    \n",
        "    # TRAINING\n",
        "    train_epoch_loss = 0\n",
        "# model.train tells python we are in training mode\n",
        "    model.train()\n",
        "# for x batch and y batch in the loader do \n",
        "#zero out gradients so parameter can update correctly \n",
        "    for X_train_batch, y_train_batch in train_loader:\n",
        "        X_train_batch, y_train_batch = X_train_batch.to(device), y_train_batch.to(device)\n",
        "        optimizer.zero_grad()\n",
        "        #forward propagation\n",
        "        #prediction of training\n",
        "        y_train_pred = model(X_train_batch)\n",
        "        #Mean squared error loss of y train batch and y train prediction\n",
        "        train_loss = criterion(y_train_pred, y_train_batch.unsqueeze(1))\n",
        "        # backpropagate using the chain rule on the values \n",
        "        train_loss.backward()\n",
        "        # revalutes the model and returns the loss\n",
        "        optimizer.step()\n",
        "        \n",
        "        train_epoch_loss += train_loss.item()\n",
        "        \n",
        "        \n",
        "    # VALIDATION    \n",
        "    #no back propagation for evaluating \n",
        "    with torch.no_grad():\n",
        "        \n",
        "        val_epoch_loss = 0\n",
        "        #sets to evalution mode \n",
        "        model.eval()\n",
        "        for X_val_batch, y_val_batch in val_loader:\n",
        "            X_val_batch, y_val_batch = X_val_batch.to(device), y_val_batch.to(device)\n",
        "            # prediction of validation\n",
        "            y_val_pred = model(X_val_batch)\n",
        "                        \n",
        "            val_loss = criterion(y_val_pred, y_val_batch.unsqueeze(1))\n",
        "            \n",
        "            val_epoch_loss += val_loss.item()\n",
        "        #adding to dicitonary \n",
        "    loss_stats['train'].append(train_epoch_loss/len(train_loader))\n",
        "    loss_stats['val'].append(val_epoch_loss/len(val_loader))                              \n",
        "    #prinintg the results \n",
        "    print(f'Epoch {e+0:03}: | Train Loss: {train_epoch_loss/len(train_loader):.5f} | Val Loss: {val_epoch_loss/len(val_loader):.5f}')"
      ],
      "metadata": {
        "colab": {
          "base_uri": "https://localhost:8080/",
          "height": 1000,
          "referenced_widgets": [
            "58b8e8b4c87d4d5e86658f680e05c44c",
            "2e9f94274bf34a2c855b3c08ce341f41",
            "64f50a552e034d35a7013d7b163bd4ae",
            "070901a0dd0e4c44940ff1a207230dc1",
            "5bd4c1f6d11b4364a8d9fd5983bfc26c",
            "1a1113f374e44191a3b9aea6ff2a1223",
            "c159f3dd92b44622b9770551952f2a94",
            "3d14adb4f929427b93d8641a58834b37",
            "b2b2e7b8060141e6afd6f957664873e3",
            "7dba35b6b1224888928d5c3f7ade9dc3",
            "7093e041a4fb4447bcf2ef64a6a710a4"
          ]
        },
        "id": "nNc8Ilv4jvYn",
        "outputId": "385c4e9c-d5f3-4489-a47e-55f0a93d8a3e"
      },
      "execution_count": 83,
      "outputs": [
        {
          "output_type": "stream",
          "name": "stdout",
          "text": [
            "Begin training.\n"
          ]
        },
        {
          "output_type": "display_data",
          "data": {
            "text/plain": [
              "  0%|          | 0/150 [00:00<?, ?it/s]"
            ],
            "application/vnd.jupyter.widget-view+json": {
              "version_major": 2,
              "version_minor": 0,
              "model_id": "58b8e8b4c87d4d5e86658f680e05c44c"
            }
          },
          "metadata": {}
        },
        {
          "output_type": "stream",
          "name": "stdout",
          "text": [
            "Epoch 001: | Train Loss: 32.03585 | Val Loss: 31.47848\n",
            "Epoch 002: | Train Loss: 31.27691 | Val Loss: 30.65850\n",
            "Epoch 003: | Train Loss: 30.28273 | Val Loss: 29.36524\n",
            "Epoch 004: | Train Loss: 28.34815 | Val Loss: 26.37919\n",
            "Epoch 005: | Train Loss: 23.83842 | Val Loss: 19.79867\n",
            "Epoch 006: | Train Loss: 15.17138 | Val Loss: 9.21113\n",
            "Epoch 007: | Train Loss: 4.79657 | Val Loss: 1.35954\n",
            "Epoch 008: | Train Loss: 1.06364 | Val Loss: 1.29337\n",
            "Epoch 009: | Train Loss: 0.98454 | Val Loss: 0.98627\n",
            "Epoch 010: | Train Loss: 0.91114 | Val Loss: 0.96390\n",
            "Epoch 011: | Train Loss: 0.87724 | Val Loss: 0.94905\n",
            "Epoch 012: | Train Loss: 0.85930 | Val Loss: 0.92081\n",
            "Epoch 013: | Train Loss: 0.83918 | Val Loss: 0.89581\n",
            "Epoch 014: | Train Loss: 0.82016 | Val Loss: 0.87218\n",
            "Epoch 015: | Train Loss: 0.80052 | Val Loss: 0.85336\n",
            "Epoch 016: | Train Loss: 0.78207 | Val Loss: 0.82737\n",
            "Epoch 017: | Train Loss: 0.76497 | Val Loss: 0.80694\n",
            "Epoch 018: | Train Loss: 0.74571 | Val Loss: 0.78208\n",
            "Epoch 019: | Train Loss: 0.72777 | Val Loss: 0.76274\n",
            "Epoch 020: | Train Loss: 0.71107 | Val Loss: 0.73929\n",
            "Epoch 021: | Train Loss: 0.69465 | Val Loss: 0.71994\n",
            "Epoch 022: | Train Loss: 0.67836 | Val Loss: 0.70156\n",
            "Epoch 023: | Train Loss: 0.66398 | Val Loss: 0.68355\n",
            "Epoch 024: | Train Loss: 0.65067 | Val Loss: 0.66986\n",
            "Epoch 025: | Train Loss: 0.63870 | Val Loss: 0.65552\n",
            "Epoch 026: | Train Loss: 0.62684 | Val Loss: 0.63630\n",
            "Epoch 027: | Train Loss: 0.61626 | Val Loss: 0.62488\n",
            "Epoch 028: | Train Loss: 0.60423 | Val Loss: 0.61047\n",
            "Epoch 029: | Train Loss: 0.59586 | Val Loss: 0.59954\n",
            "Epoch 030: | Train Loss: 0.58882 | Val Loss: 0.59061\n",
            "Epoch 031: | Train Loss: 0.57933 | Val Loss: 0.57834\n",
            "Epoch 032: | Train Loss: 0.57255 | Val Loss: 0.56891\n",
            "Epoch 033: | Train Loss: 0.56684 | Val Loss: 0.56374\n",
            "Epoch 034: | Train Loss: 0.56263 | Val Loss: 0.55466\n",
            "Epoch 035: | Train Loss: 0.55762 | Val Loss: 0.54654\n",
            "Epoch 036: | Train Loss: 0.55316 | Val Loss: 0.54438\n",
            "Epoch 037: | Train Loss: 0.54998 | Val Loss: 0.53551\n",
            "Epoch 038: | Train Loss: 0.54566 | Val Loss: 0.53112\n",
            "Epoch 039: | Train Loss: 0.54315 | Val Loss: 0.52692\n",
            "Epoch 040: | Train Loss: 0.54051 | Val Loss: 0.52694\n",
            "Epoch 041: | Train Loss: 0.53687 | Val Loss: 0.51750\n",
            "Epoch 042: | Train Loss: 0.53571 | Val Loss: 0.51797\n",
            "Epoch 043: | Train Loss: 0.53252 | Val Loss: 0.51116\n",
            "Epoch 044: | Train Loss: 0.52935 | Val Loss: 0.51061\n",
            "Epoch 045: | Train Loss: 0.52765 | Val Loss: 0.50584\n",
            "Epoch 046: | Train Loss: 0.52692 | Val Loss: 0.50655\n",
            "Epoch 047: | Train Loss: 0.52330 | Val Loss: 0.49985\n",
            "Epoch 048: | Train Loss: 0.52254 | Val Loss: 0.49611\n",
            "Epoch 049: | Train Loss: 0.51741 | Val Loss: 0.50047\n",
            "Epoch 050: | Train Loss: 0.51887 | Val Loss: 0.49256\n",
            "Epoch 051: | Train Loss: 0.51499 | Val Loss: 0.48966\n",
            "Epoch 052: | Train Loss: 0.51390 | Val Loss: 0.48642\n",
            "Epoch 053: | Train Loss: 0.51319 | Val Loss: 0.49078\n",
            "Epoch 054: | Train Loss: 0.51028 | Val Loss: 0.48988\n",
            "Epoch 055: | Train Loss: 0.50634 | Val Loss: 0.47907\n",
            "Epoch 056: | Train Loss: 0.50671 | Val Loss: 0.47981\n",
            "Epoch 057: | Train Loss: 0.50336 | Val Loss: 0.47920\n",
            "Epoch 058: | Train Loss: 0.50121 | Val Loss: 0.47562\n",
            "Epoch 059: | Train Loss: 0.49905 | Val Loss: 0.47203\n",
            "Epoch 060: | Train Loss: 0.49800 | Val Loss: 0.48038\n",
            "Epoch 061: | Train Loss: 0.49673 | Val Loss: 0.46694\n",
            "Epoch 062: | Train Loss: 0.49804 | Val Loss: 0.46986\n",
            "Epoch 063: | Train Loss: 0.49314 | Val Loss: 0.46500\n",
            "Epoch 064: | Train Loss: 0.49153 | Val Loss: 0.46703\n",
            "Epoch 065: | Train Loss: 0.48999 | Val Loss: 0.46457\n",
            "Epoch 066: | Train Loss: 0.48734 | Val Loss: 0.45701\n",
            "Epoch 067: | Train Loss: 0.48874 | Val Loss: 0.45930\n",
            "Epoch 068: | Train Loss: 0.48469 | Val Loss: 0.45826\n",
            "Epoch 069: | Train Loss: 0.48400 | Val Loss: 0.45609\n",
            "Epoch 070: | Train Loss: 0.48220 | Val Loss: 0.45055\n",
            "Epoch 071: | Train Loss: 0.48049 | Val Loss: 0.45160\n",
            "Epoch 072: | Train Loss: 0.47908 | Val Loss: 0.45942\n",
            "Epoch 073: | Train Loss: 0.48089 | Val Loss: 0.45594\n",
            "Epoch 074: | Train Loss: 0.47785 | Val Loss: 0.44872\n",
            "Epoch 075: | Train Loss: 0.47505 | Val Loss: 0.44292\n",
            "Epoch 076: | Train Loss: 0.47306 | Val Loss: 0.44540\n",
            "Epoch 077: | Train Loss: 0.47179 | Val Loss: 0.44011\n",
            "Epoch 078: | Train Loss: 0.48041 | Val Loss: 0.43728\n",
            "Epoch 079: | Train Loss: 0.47366 | Val Loss: 0.44310\n",
            "Epoch 080: | Train Loss: 0.46827 | Val Loss: 0.43788\n",
            "Epoch 081: | Train Loss: 0.46880 | Val Loss: 0.43399\n",
            "Epoch 082: | Train Loss: 0.46598 | Val Loss: 0.43168\n",
            "Epoch 083: | Train Loss: 0.46500 | Val Loss: 0.43313\n",
            "Epoch 084: | Train Loss: 0.46447 | Val Loss: 0.42904\n",
            "Epoch 085: | Train Loss: 0.46764 | Val Loss: 0.42876\n",
            "Epoch 086: | Train Loss: 0.46556 | Val Loss: 0.43570\n",
            "Epoch 087: | Train Loss: 0.46124 | Val Loss: 0.42764\n",
            "Epoch 088: | Train Loss: 0.45940 | Val Loss: 0.42405\n",
            "Epoch 089: | Train Loss: 0.45882 | Val Loss: 0.43232\n",
            "Epoch 090: | Train Loss: 0.46208 | Val Loss: 0.42150\n",
            "Epoch 091: | Train Loss: 0.45545 | Val Loss: 0.42232\n",
            "Epoch 092: | Train Loss: 0.45496 | Val Loss: 0.41958\n",
            "Epoch 093: | Train Loss: 0.45413 | Val Loss: 0.42535\n",
            "Epoch 094: | Train Loss: 0.45322 | Val Loss: 0.42062\n",
            "Epoch 095: | Train Loss: 0.45245 | Val Loss: 0.41698\n",
            "Epoch 096: | Train Loss: 0.45194 | Val Loss: 0.41719\n",
            "Epoch 097: | Train Loss: 0.45016 | Val Loss: 0.41961\n",
            "Epoch 098: | Train Loss: 0.45091 | Val Loss: 0.41586\n",
            "Epoch 099: | Train Loss: 0.45177 | Val Loss: 0.41294\n",
            "Epoch 100: | Train Loss: 0.45106 | Val Loss: 0.41141\n",
            "Epoch 101: | Train Loss: 0.44692 | Val Loss: 0.42306\n",
            "Epoch 102: | Train Loss: 0.44715 | Val Loss: 0.41213\n",
            "Epoch 103: | Train Loss: 0.45038 | Val Loss: 0.41149\n",
            "Epoch 104: | Train Loss: 0.44645 | Val Loss: 0.41056\n",
            "Epoch 105: | Train Loss: 0.44516 | Val Loss: 0.41116\n",
            "Epoch 106: | Train Loss: 0.44361 | Val Loss: 0.41002\n",
            "Epoch 107: | Train Loss: 0.44258 | Val Loss: 0.40744\n",
            "Epoch 108: | Train Loss: 0.44214 | Val Loss: 0.40932\n",
            "Epoch 109: | Train Loss: 0.44206 | Val Loss: 0.40529\n",
            "Epoch 110: | Train Loss: 0.44686 | Val Loss: 0.40560\n",
            "Epoch 111: | Train Loss: 0.44768 | Val Loss: 0.40244\n",
            "Epoch 112: | Train Loss: 0.44123 | Val Loss: 0.40306\n",
            "Epoch 113: | Train Loss: 0.44541 | Val Loss: 0.44308\n",
            "Epoch 114: | Train Loss: 0.44206 | Val Loss: 0.40133\n",
            "Epoch 115: | Train Loss: 0.43673 | Val Loss: 0.41402\n",
            "Epoch 116: | Train Loss: 0.44098 | Val Loss: 0.40772\n",
            "Epoch 117: | Train Loss: 0.43627 | Val Loss: 0.40285\n",
            "Epoch 118: | Train Loss: 0.43534 | Val Loss: 0.40529\n",
            "Epoch 119: | Train Loss: 0.43655 | Val Loss: 0.39958\n",
            "Epoch 120: | Train Loss: 0.43313 | Val Loss: 0.41259\n",
            "Epoch 121: | Train Loss: 0.43425 | Val Loss: 0.39714\n",
            "Epoch 122: | Train Loss: 0.43524 | Val Loss: 0.39771\n",
            "Epoch 123: | Train Loss: 0.43449 | Val Loss: 0.40594\n",
            "Epoch 124: | Train Loss: 0.43290 | Val Loss: 0.39669\n",
            "Epoch 125: | Train Loss: 0.43341 | Val Loss: 0.39229\n",
            "Epoch 126: | Train Loss: 0.43126 | Val Loss: 0.39901\n",
            "Epoch 127: | Train Loss: 0.43077 | Val Loss: 0.39462\n",
            "Epoch 128: | Train Loss: 0.43126 | Val Loss: 0.39363\n",
            "Epoch 129: | Train Loss: 0.42904 | Val Loss: 0.40589\n",
            "Epoch 130: | Train Loss: 0.42950 | Val Loss: 0.39190\n",
            "Epoch 131: | Train Loss: 0.42857 | Val Loss: 0.39991\n",
            "Epoch 132: | Train Loss: 0.42976 | Val Loss: 0.39185\n",
            "Epoch 133: | Train Loss: 0.42979 | Val Loss: 0.38947\n",
            "Epoch 134: | Train Loss: 0.42973 | Val Loss: 0.38987\n",
            "Epoch 135: | Train Loss: 0.42878 | Val Loss: 0.39002\n",
            "Epoch 136: | Train Loss: 0.42698 | Val Loss: 0.39207\n",
            "Epoch 137: | Train Loss: 0.42900 | Val Loss: 0.39014\n",
            "Epoch 138: | Train Loss: 0.42616 | Val Loss: 0.38742\n",
            "Epoch 139: | Train Loss: 0.42579 | Val Loss: 0.39010\n",
            "Epoch 140: | Train Loss: 0.42838 | Val Loss: 0.39429\n",
            "Epoch 141: | Train Loss: 0.42501 | Val Loss: 0.39783\n",
            "Epoch 142: | Train Loss: 0.43103 | Val Loss: 0.38630\n",
            "Epoch 143: | Train Loss: 0.42509 | Val Loss: 0.39580\n",
            "Epoch 144: | Train Loss: 0.42724 | Val Loss: 0.38902\n",
            "Epoch 145: | Train Loss: 0.42384 | Val Loss: 0.38410\n",
            "Epoch 146: | Train Loss: 0.42309 | Val Loss: 0.38443\n",
            "Epoch 147: | Train Loss: 0.42178 | Val Loss: 0.38653\n",
            "Epoch 148: | Train Loss: 0.42301 | Val Loss: 0.38244\n",
            "Epoch 149: | Train Loss: 0.42184 | Val Loss: 0.38621\n",
            "Epoch 150: | Train Loss: 0.42399 | Val Loss: 0.38537\n"
          ]
        }
      ]
    },
    {
      "cell_type": "code",
      "source": [
        "# graph reults \n",
        "train_val_loss_df = pd.DataFrame.from_dict(loss_stats).reset_index().melt(id_vars=['index']).rename(columns={\"index\":\"epochs\"})\n",
        "plt.figure(figsize=(15,8))\n",
        "sns.lineplot(data=train_val_loss_df, x = \"epochs\", y=\"value\", hue=\"variable\").set_title('Train-Val Loss/Epoch')"
      ],
      "metadata": {
        "colab": {
          "base_uri": "https://localhost:8080/",
          "height": 531
        },
        "id": "889fZ00XkZlb",
        "outputId": "a929b89b-b163-4278-b04d-0ff352e5c62a"
      },
      "execution_count": 84,
      "outputs": [
        {
          "output_type": "execute_result",
          "data": {
            "text/plain": [
              "Text(0.5, 1.0, 'Train-Val Loss/Epoch')"
            ]
          },
          "metadata": {},
          "execution_count": 84
        },
        {
          "output_type": "display_data",
          "data": {
            "text/plain": [
              "<Figure size 1080x576 with 1 Axes>"
            ],
            "image/png": "[encoded data removed]"
          },
          "metadata": {
            "needs_background": "light"
          }
        }
      ]
    },
    {
      "cell_type": "code",
      "source": [
        "# checking test results with the model\n",
        "y_pred_list = []\n",
        "with torch.no_grad():\n",
        "    model.eval()\n",
        "    for X_batch, _ in test_loader:\n",
        "        X_batch = X_batch.to(device)\n",
        "        y_test_pred = model(X_batch)\n",
        "        y_pred_list.append(y_test_pred.cpu().numpy())\n",
        "y_pred_list = [a.squeeze().tolist() for a in y_pred_list]\n"
      ],
      "metadata": {
        "id": "0SJNRBIdlf-J"
      },
      "execution_count": 87,
      "outputs": []
    },
    {
      "cell_type": "code",
      "source": [
        "#calculating mean squared error and r^2 square\n",
        "mse = mean_squared_error(y_test, y_pred_list)\n",
        "r_square = r2_score(y_test, y_pred_list)\n",
        "print(\"Mean Squared Error :\",mse)\n",
        "print(\"R^2 :\",r_square)"
      ],
      "metadata": {
        "colab": {
          "base_uri": "https://localhost:8080/"
        },
        "id": "a3Ao92aUlkZ4",
        "outputId": "4784b484-63e2-47b9-fd34-73044d66bde7"
      },
      "execution_count": 88,
      "outputs": [
        {
          "output_type": "stream",
          "name": "stdout",
          "text": [
            "Mean Squared Error : 0.4088324988723038\n",
            "R^2 : 0.36641976081294425\n"
          ]
        }
      ]
    }
  ]
}